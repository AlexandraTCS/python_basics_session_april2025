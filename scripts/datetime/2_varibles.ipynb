{
 "cells": [
  {
   "cell_type": "code",
   "execution_count": 115,
   "id": "e8633e96-afbd-45c5-85c2-a02346b78385",
   "metadata": {},
   "outputs": [],
   "source": [
    "# Python E0 Meet Up 04/2025. Varibles"
   ]
  },
  {
   "cell_type": "markdown",
   "id": "ca44f52f-3143-487e-8bed-e14fddbd6a31",
   "metadata": {},
   "source": [
    "# Naming Rules\n",
    "- Must start with a letter or an underscore: my_variable, _myVariable\n",
    "- Cannot start with a number: 2ndVariable is invalid.\n",
    "- Can contain letters, numbers, and underscores: variable_1, my_variable2\n",
    "- Case-sensitive: age and Age are different variables\n",
    "  .\n",
    "# Data Types\n",
    "- Integers: number = 10\n",
    "- Floats: pi = 3.14\n",
    "- Strings: greeting = \"Hello, Friends\"\n",
    "- Booleans: is_active = True \n",
    "- Lists: students = [\"Jhon\", \"Alice\", \"Bob\"]\n",
    "- Tuples: subjects = ('Math', 'Art', 'English')\n",
    "- Sets: my_set = {\"apple\", \"banana\", \"cherry\"}\n",
    "- Dictionaries: person = {\"name\": \"Alice\", \"age\": 30, \"hobbies\":[\"art\",\"hiking\",\"cooking\"}\n"
   ]
  },
  {
   "cell_type": "markdown",
   "id": "8330a29b-6166-4816-8047-e25d88c3116a",
   "metadata": {},
   "source": [
    "# Creating Varibles"
   ]
  },
  {
   "cell_type": "code",
   "execution_count": 116,
   "id": "cb620368-349b-4bc5-8d47-f84f8e27daa2",
   "metadata": {},
   "outputs": [
    {
     "name": "stdout",
     "output_type": "stream",
     "text": [
      "5\n",
      "Python is easy\n"
     ]
    }
   ],
   "source": [
    "# Python is dynamically typed, no need to declare the type of a variable explicitly\n",
    "x=5\n",
    "print(x)\n",
    "x='Python is easy'\n",
    "print(x)\n"
   ]
  },
  {
   "cell_type": "code",
   "execution_count": 117,
   "id": "866b6570-6a18-4e9d-99f7-b2839b7a24cc",
   "metadata": {},
   "outputs": [
    {
     "name": "stdout",
     "output_type": "stream",
     "text": [
      "Upper case's\n",
      "lower case\n"
     ]
    }
   ],
   "source": [
    "Case=\"Upper case's\"\n",
    "case='lower case' \n",
    "\n",
    "print(Case)\n",
    "print(case)"
   ]
  },
  {
   "cell_type": "code",
   "execution_count": 118,
   "id": "c6328644-b350-40b7-b88b-11d9dd6054c0",
   "metadata": {},
   "outputs": [
    {
     "name": "stdout",
     "output_type": "stream",
     "text": [
      "varible number 1 varible number 2\n",
      "varible number 2 varible number 1\n"
     ]
    }
   ],
   "source": [
    "# swap varibles\n",
    "x,y='varible number 1', 'varible number 2'\n",
    "print(x,y)\n",
    "x,y=y,x \n",
    "print(x,y)"
   ]
  },
  {
   "cell_type": "code",
   "execution_count": 119,
   "id": "cb6949b2-72cf-45bb-a5a3-bcbfbacc18b8",
   "metadata": {},
   "outputs": [],
   "source": [
    "string_var=str(5) # output '5'\n",
    "int_var=int(5) # output 5\n",
    "float_var=float(5) # output 5.0\n",
    "\n",
    "#print(string_var+int_var)"
   ]
  },
  {
   "cell_type": "code",
   "execution_count": 120,
   "id": "4d8361b6-7730-457c-ba5f-154cbedfaab7",
   "metadata": {},
   "outputs": [
    {
     "name": "stdout",
     "output_type": "stream",
     "text": [
      "<class 'bool'>\n",
      "<class 'str'>\n"
     ]
    }
   ],
   "source": [
    "# Python Booleans True, False\n",
    "x=True #boolean\n",
    "print(type(x)) \n",
    "x=\"True\" #string\n",
    "print(type(x))\n"
   ]
  },
  {
   "cell_type": "code",
   "execution_count": 121,
   "id": "3e29b602-398f-4701-a62c-48afd24e484c",
   "metadata": {},
   "outputs": [
    {
     "name": "stdout",
     "output_type": "stream",
     "text": [
      "<class 'int'>\n",
      "It's False\n"
     ]
    }
   ],
   "source": [
    "#False and 0 are considered the same value\n",
    "x=0 #int\n",
    "print(type(x))\n",
    "\n",
    "if x==False:\n",
    "    print(\"It's False\")\n"
   ]
  },
  {
   "cell_type": "code",
   "execution_count": 122,
   "id": "56623f4d-46ce-4fd7-99eb-671000edc97f",
   "metadata": {},
   "outputs": [
    {
     "name": "stdout",
     "output_type": "stream",
     "text": [
      "<class 'int'>\n",
      "It's False\n"
     ]
    }
   ],
   "source": [
    "#False and 0 are considered the same value\n",
    "x=int(0) #int\n",
    "print(type(x))\n",
    "\n",
    "if x==False:\n",
    "    print(\"It's False\")"
   ]
  },
  {
   "cell_type": "code",
   "execution_count": 123,
   "id": "c3bcec8d-7014-4a17-80b7-b7005b843622",
   "metadata": {},
   "outputs": [
    {
     "name": "stdout",
     "output_type": "stream",
     "text": [
      "<class 'int'>\n",
      "It's True\n"
     ]
    }
   ],
   "source": [
    "#True and 1 are considered the same value, False and 0 are considered the same value\n",
    "x=1 #int\n",
    "print(type(x))\n",
    "\n",
    "if x==True:\n",
    "    print(\"It's True\")"
   ]
  },
  {
   "cell_type": "markdown",
   "id": "4dad9eb9-6214-4575-bb44-0efcf11bd85e",
   "metadata": {},
   "source": [
    "# Lists\n",
    "List items are ordered, changeable, allow different data types and allow duplicate values."
   ]
  },
  {
   "cell_type": "code",
   "execution_count": 124,
   "id": "5926db81-8c56-4fe9-aa5b-b9219333a862",
   "metadata": {},
   "outputs": [
    {
     "name": "stdout",
     "output_type": "stream",
     "text": [
      "5\n"
     ]
    }
   ],
   "source": [
    "my_grocery_list=['apples','milk','bread','rice','potato']\n",
    "print(len(my_grocery_list))"
   ]
  },
  {
   "cell_type": "code",
   "execution_count": 125,
   "id": "0e44b5f0-0bbd-4b97-b73c-c3c27ef9ef76",
   "metadata": {},
   "outputs": [
    {
     "name": "stdout",
     "output_type": "stream",
     "text": [
      "bread\n",
      "rice\n"
     ]
    }
   ],
   "source": [
    "# Ordered\n",
    "print(my_grocery_list[2])\n",
    "print(my_grocery_list[-2])"
   ]
  },
  {
   "cell_type": "code",
   "execution_count": 126,
   "id": "290d19a1-cbe7-4041-beb7-c325c5c6503a",
   "metadata": {},
   "outputs": [
    {
     "data": {
      "text/plain": [
       "['apples', 'milk', 'bread', 'rice', 'potato', 34]"
      ]
     },
     "execution_count": 126,
     "metadata": {},
     "output_type": "execute_result"
    }
   ],
   "source": [
    "# Changeable\n",
    "my_grocery_list.append(34) # add integer at the end of the list\n",
    "my_grocery_list"
   ]
  },
  {
   "cell_type": "code",
   "execution_count": 127,
   "id": "f17925a6-e813-42dc-866b-1c0187f52737",
   "metadata": {},
   "outputs": [
    {
     "data": {
      "text/plain": [
       "['apples', True, 'milk', 'bread', 'rice', 'potato', 34]"
      ]
     },
     "execution_count": 127,
     "metadata": {},
     "output_type": "execute_result"
    }
   ],
   "source": [
    "my_grocery_list.insert(1, True) # add item at a specified index of the list\n",
    "my_grocery_list"
   ]
  },
  {
   "cell_type": "code",
   "execution_count": 128,
   "id": "79ebaf39-f45d-4f77-b70a-5ee98d9b5b26",
   "metadata": {},
   "outputs": [
    {
     "data": {
      "text/plain": [
       "['apples', True, 'potato', 'bread', 'rice', 'potato', 34]"
      ]
     },
     "execution_count": 128,
     "metadata": {},
     "output_type": "execute_result"
    }
   ],
   "source": [
    "my_grocery_list[2]='potato' # replace item at a specified index of the list\n",
    "my_grocery_list"
   ]
  },
  {
   "cell_type": "code",
   "execution_count": 129,
   "id": "aa709abe-f1a6-4201-8ad6-9c1b2e63740f",
   "metadata": {},
   "outputs": [
    {
     "data": {
      "text/plain": [
       "['apples', True, 'bread', 'rice', 'potato', 34]"
      ]
     },
     "execution_count": 129,
     "metadata": {},
     "output_type": "execute_result"
    }
   ],
   "source": [
    "my_grocery_list.remove('potato') # remove by name\n",
    "my_grocery_list"
   ]
  },
  {
   "cell_type": "code",
   "execution_count": 130,
   "id": "f195e0e4-be72-429e-a338-5ff94500a988",
   "metadata": {},
   "outputs": [
    {
     "data": {
      "text/plain": [
       "['apples', 'bread', 'rice', 'potato', 34]"
      ]
     },
     "execution_count": 130,
     "metadata": {},
     "output_type": "execute_result"
    }
   ],
   "source": [
    "my_grocery_list.pop(1) # remove the specified index\n",
    "my_grocery_list"
   ]
  },
  {
   "cell_type": "code",
   "execution_count": 131,
   "id": "2b351e0e-65e2-4814-b727-91fd2d701fab",
   "metadata": {},
   "outputs": [
    {
     "name": "stdout",
     "output_type": "stream",
     "text": [
      "['apples', 'bread', 'rice']\n",
      "['potato', 34]\n",
      "['apples', 'bread']\n",
      "['rice', 'potato', 34]\n"
     ]
    }
   ],
   "source": [
    "#slicing\n",
    "print(my_grocery_list[:3]) # first 3 items\n",
    "print(my_grocery_list[3:]) # everething after first 3 items\n",
    "print(my_grocery_list[:-3]) # everething but last 3 items\n",
    "print(my_grocery_list[-3:]) # last 3 items"
   ]
  },
  {
   "cell_type": "code",
   "execution_count": 132,
   "id": "aadae092-3f5a-4f41-a228-4ceb42a5d2f6",
   "metadata": {},
   "outputs": [
    {
     "data": {
      "text/plain": [
       "['apples', 'bread', 'rice', 'potato', 34, ['item1', 'item2', 'item3']]"
      ]
     },
     "execution_count": 132,
     "metadata": {},
     "output_type": "execute_result"
    }
   ],
   "source": [
    "# nested lists\n",
    "my_grocery_list.append(['item1', 'item2', 'item3'])\n",
    "my_grocery_list"
   ]
  },
  {
   "cell_type": "code",
   "execution_count": 133,
   "id": "71706ac4-b209-420c-a94d-1822391653d6",
   "metadata": {},
   "outputs": [
    {
     "data": {
      "text/plain": [
       "'item1'"
      ]
     },
     "execution_count": 133,
     "metadata": {},
     "output_type": "execute_result"
    }
   ],
   "source": [
    "my_grocery_list[5][0]"
   ]
  },
  {
   "cell_type": "markdown",
   "id": "87c8744a-2550-458a-85ee-499675c0b128",
   "metadata": {},
   "source": [
    "# Tuple \n",
    "Tuple items are ordered, unchangeable, and allow duplicate values."
   ]
  },
  {
   "cell_type": "code",
   "execution_count": 134,
   "id": "d10d6583-ac7c-4b42-8daf-45f81fbe3850",
   "metadata": {},
   "outputs": [
    {
     "data": {
      "text/plain": [
       "('Thing number 1', 34, False, 34, ['item1', 'item2', 'item3'])"
      ]
     },
     "execution_count": 134,
     "metadata": {},
     "output_type": "execute_result"
    }
   ],
   "source": [
    "my_stuff=('Thing number 1', 34, False,34,['item1', 'item2', 'item3'])\n",
    "my_stuff"
   ]
  },
  {
   "cell_type": "code",
   "execution_count": 135,
   "id": "f434dcb6-a171-436e-9195-9f6cd3a17320",
   "metadata": {},
   "outputs": [
    {
     "name": "stdout",
     "output_type": "stream",
     "text": [
      "34\n"
     ]
    }
   ],
   "source": [
    "print(my_stuff[1])"
   ]
  },
  {
   "cell_type": "markdown",
   "id": "c8f3f1ce-c64e-44af-975b-86bc234b68bf",
   "metadata": {},
   "source": [
    "# Set Items\n",
    "Set items are unordered, updatable, and do not allow duplicate values."
   ]
  },
  {
   "cell_type": "code",
   "execution_count": 136,
   "id": "c22e0d84-2ac8-4acf-94e4-659cf55a26a0",
   "metadata": {},
   "outputs": [
    {
     "data": {
      "text/plain": [
       "{1, False, 'dress', 'pants'}"
      ]
     },
     "execution_count": 136,
     "metadata": {},
     "output_type": "execute_result"
    }
   ],
   "source": [
    "set_of_clothes={'dress', 'pants', 1, False}\n",
    "set_of_clothes"
   ]
  },
  {
   "cell_type": "code",
   "execution_count": 137,
   "id": "76fa8485-3eea-462d-857a-f2a40317dfa6",
   "metadata": {},
   "outputs": [
    {
     "data": {
      "text/plain": [
       "{1, False, 'dress', 'pants', 'socks'}"
      ]
     },
     "execution_count": 137,
     "metadata": {},
     "output_type": "execute_result"
    }
   ],
   "source": [
    "set_of_clothes.add('socks')\n",
    "set_of_clothes"
   ]
  },
  {
   "cell_type": "code",
   "execution_count": 138,
   "id": "14a19942-49c7-441a-91e9-7926bac01344",
   "metadata": {},
   "outputs": [
    {
     "data": {
      "text/plain": [
       "{1, False, 'dress', 'socks'}"
      ]
     },
     "execution_count": 138,
     "metadata": {},
     "output_type": "execute_result"
    }
   ],
   "source": [
    "set_of_clothes.remove('pants')\n",
    "set_of_clothes"
   ]
  },
  {
   "cell_type": "code",
   "execution_count": 139,
   "id": "cda346ff-77d3-42f6-8239-e0c9b39de3af",
   "metadata": {},
   "outputs": [
    {
     "data": {
      "text/plain": [
       "{'0', 1, False, 'dress', 'socks'}"
      ]
     },
     "execution_count": 139,
     "metadata": {},
     "output_type": "execute_result"
    }
   ],
   "source": [
    "# False and 0 is considered the same value\n",
    "set_of_clothes.add('0')\n",
    "set_of_clothes"
   ]
  },
  {
   "cell_type": "code",
   "execution_count": 140,
   "id": "694ff4d7-dff3-473f-b2c7-a4ae1ee7aad6",
   "metadata": {},
   "outputs": [
    {
     "data": {
      "text/plain": [
       "{'0', 1, False, 'dress', 'socks'}"
      ]
     },
     "execution_count": 140,
     "metadata": {},
     "output_type": "execute_result"
    }
   ],
   "source": [
    "# True and 1 is considered the same value\n",
    "set_of_clothes.add(True)\n",
    "set_of_clothes"
   ]
  },
  {
   "cell_type": "markdown",
   "id": "6cdeb188-1903-43a1-ba95-e674ad386ba0",
   "metadata": {},
   "source": [
    "# Dictionary\n",
    "Dictionaries are used to store data values in key:value pairs.\n",
    "A dictionary is a collection which is ordered, changeable and do not allow duplicates.\n",
    "A dictionary can contain dictionaries, this is called nested dictionaries."
   ]
  },
  {
   "cell_type": "code",
   "execution_count": 141,
   "id": "25a35019-6aeb-42aa-b874-1ada56cad0dd",
   "metadata": {},
   "outputs": [
    {
     "data": {
      "text/plain": [
       "{'level': 'E0', 'number of students': 3}"
      ]
     },
     "execution_count": 141,
     "metadata": {},
     "output_type": "execute_result"
    }
   ],
   "source": [
    "python_class={'level':'E0','number of students':3}\n",
    "python_class"
   ]
  },
  {
   "cell_type": "code",
   "execution_count": 142,
   "id": "2a2f8966-3779-4cbe-90a0-ca25b76ad40b",
   "metadata": {},
   "outputs": [
    {
     "data": {
      "text/plain": [
       "{'level': 'E0', 'number of students': 3, 'mentor': 'Eva'}"
      ]
     },
     "execution_count": 142,
     "metadata": {},
     "output_type": "execute_result"
    }
   ],
   "source": [
    "python_class['mentor']='Eva'\n",
    "python_class"
   ]
  },
  {
   "cell_type": "code",
   "execution_count": 143,
   "id": "8023530c-3cd5-4e3d-8650-4be8d0c865ee",
   "metadata": {},
   "outputs": [
    {
     "data": {
      "text/plain": [
       "{'level': 'E0', 'number of students': 3, 'mentor': 'Adam'}"
      ]
     },
     "execution_count": 143,
     "metadata": {},
     "output_type": "execute_result"
    }
   ],
   "source": [
    "# No duplicates\n",
    "python_class['mentor']='Adam'\n",
    "python_class"
   ]
  },
  {
   "cell_type": "code",
   "execution_count": 144,
   "id": "e1f404fa-29be-4358-892c-c40058967602",
   "metadata": {},
   "outputs": [
    {
     "data": {
      "text/plain": [
       "{'level': 'E0', 'mentor': 'Adam'}"
      ]
     },
     "execution_count": 144,
     "metadata": {},
     "output_type": "execute_result"
    }
   ],
   "source": [
    "# remove item\n",
    "python_class.pop(\"number of students\")\n",
    "python_class"
   ]
  },
  {
   "cell_type": "code",
   "execution_count": 145,
   "id": "cacd63f0-aa40-4c61-ad93-c2ed62159361",
   "metadata": {},
   "outputs": [
    {
     "data": {
      "text/plain": [
       "{'level': 'E0',\n",
       " 'mentor': 'Adam',\n",
       " 'topics': ['variables', 'loops', 'functions']}"
      ]
     },
     "execution_count": 145,
     "metadata": {},
     "output_type": "execute_result"
    }
   ],
   "source": [
    "# multilevel access\n",
    "topics=['variables','loops', 'functions']\n",
    "python_class['topics']=topics\n",
    "python_class"
   ]
  },
  {
   "cell_type": "code",
   "execution_count": 146,
   "id": "86af01b8-3e9b-4571-a460-a10c88ed4e81",
   "metadata": {},
   "outputs": [
    {
     "name": "stdout",
     "output_type": "stream",
     "text": [
      "variables\n"
     ]
    }
   ],
   "source": [
    "print(python_class['topics'][0])"
   ]
  },
  {
   "cell_type": "code",
   "execution_count": 147,
   "id": "43115452-053a-4f85-84cf-690b64aaadc4",
   "metadata": {},
   "outputs": [
    {
     "data": {
      "text/plain": [
       "{'name': 'John', 'age': 36, 'major': 'Computer Science'}"
      ]
     },
     "execution_count": 147,
     "metadata": {},
     "output_type": "execute_result"
    }
   ],
   "source": [
    "student_1=dict(name = \"John\", age = 36, major = \"Computer Science\")\n",
    "student_1"
   ]
  },
  {
   "cell_type": "code",
   "execution_count": 148,
   "id": "b8340f53-e965-4dfb-8608-1e4b1d716996",
   "metadata": {},
   "outputs": [
    {
     "data": {
      "text/plain": [
       "{'level': 'E0',\n",
       " 'mentor': 'Adam',\n",
       " 'topics': ['variables', 'loops', 'functions'],\n",
       " 'students': {'Student 1': {'name': 'John',\n",
       "   'age': 36,\n",
       "   'major': 'Computer Science'},\n",
       "  'Student 2': {'name': 'Bob', 'age': 28, 'major': 'Data Science'},\n",
       "  'Student 3': {'name': 'Alice', 'age': 43, 'major': 'Computer Science'}}}"
      ]
     },
     "execution_count": 148,
     "metadata": {},
     "output_type": "execute_result"
    }
   ],
   "source": [
    "# Nested dictionary\n",
    "student_2=dict(name = \"Bob\", age = 28, major = \"Data Science\")\n",
    "student_3=dict(name = \"Alice\", age = 43, major = \"Computer Science\")\n",
    "\n",
    "python_class['students']={'Student 1':student_1,\n",
    "                          'Student 2':student_2,\n",
    "                          'Student 3':student_3,\n",
    "                         }\n",
    "\n",
    "python_class"
   ]
  }
 ],
 "metadata": {
  "kernelspec": {
   "display_name": "Python 3 (ipykernel)",
   "language": "python",
   "name": "python3"
  },
  "language_info": {
   "codemirror_mode": {
    "name": "ipython",
    "version": 3
   },
   "file_extension": ".py",
   "mimetype": "text/x-python",
   "name": "python",
   "nbconvert_exporter": "python",
   "pygments_lexer": "ipython3",
   "version": "3.12.7"
  }
 },
 "nbformat": 4,
 "nbformat_minor": 5
}
