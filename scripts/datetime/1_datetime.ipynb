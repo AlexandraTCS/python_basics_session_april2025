{
 "cells": [
  {
   "cell_type": "code",
   "execution_count": 141,
   "id": "cbab2997-6ce8-4caf-8b34-fa134ff7d382",
   "metadata": {},
   "outputs": [],
   "source": [
    "# 04/2025 Meet Up Python E0"
   ]
  },
  {
   "cell_type": "markdown",
   "id": "74514943-f2a7-47b5-ae40-639399823d74",
   "metadata": {},
   "source": [
    "# Working with Date and time\n",
    "The Datetime is a standard library module used for working with dates, times, and timedeltas. \n"
   ]
  },
  {
   "cell_type": "code",
   "execution_count": 142,
   "id": "f326a547-67c4-402a-829c-cfd52097b2ee",
   "metadata": {},
   "outputs": [],
   "source": [
    "# Import the required classes from the datetime module\n",
    "from datetime import datetime, timedelta, date, time\n"
   ]
  },
  {
   "cell_type": "code",
   "execution_count": 143,
   "id": "b134b9f7-3dd1-4434-8e44-89d12d7f035e",
   "metadata": {},
   "outputs": [
    {
     "name": "stdout",
     "output_type": "stream",
     "text": [
      "Current Date and Time: 2025-04-02 15:58:11.039462\n"
     ]
    }
   ],
   "source": [
    "#Getting the current date and time \n",
    "current_datetime = datetime.now()\n",
    "print(\"Current Date and Time:\", current_datetime)\n"
   ]
  },
  {
   "cell_type": "markdown",
   "id": "23551b6d-1936-486d-b79a-2401448a4d6d",
   "metadata": {},
   "source": [
    "# Formatting a datetime object in Python\n",
    "A reference of all the legal format codes: https://www.w3schools.com/python/python_datetime.asp\n",
    "\n",
    "Here's a table of **common date formatting codes** used with the `strftime()` and `strptime()` methods in Python's `datetime` module:\n",
    "\n",
    "### **Common Date Formatting Codes**\n",
    "\n",
    "| **Code**  | **Description**                     | **Example Output**  |\n",
    "|-----------|-------------------------------------|---------------------|\n",
    "| `%Y`      | Year with century (4 digits)        | `2025`              |\n",
    "| `%y`      | Year without century (2 digits)     | `25`                |\n",
    "| `%m`      | Month as a zero-padded number (01–12)| `04`               |\n",
    "| `%B`      | Full month name                     | `April`             |\n",
    "| `%b`      | Abbreviated month name              | `Apr`               |\n",
    "| `%d`      | Day of the month as zero-padded (01–31)| `02`             |\n",
    "| `%j`      | Day of the year (001–366)           | `092`               |\n",
    "| `%w`      | Weekday as a number (0=Sunday, 6=Saturday)| `3`           |\n",
    "| `%A`      | Full weekday name                   | `Wednesday`         |\n",
    "| `%a`      | Abbreviated weekday name            | `Wed`               |\n"
   ]
  },
  {
   "cell_type": "code",
   "execution_count": 144,
   "id": "1fa36051-6300-403d-8caf-643d272e38d6",
   "metadata": {},
   "outputs": [
    {
     "name": "stdout",
     "output_type": "stream",
     "text": [
      "02/04/2025 15:58:11\n",
      "04-02-2025 \n",
      "Today is Wednesday , April 02 2025\n"
     ]
    }
   ],
   "source": [
    "# Formatting a date \n",
    "\n",
    "print(current_datetime.strftime(\"%d/%m/%Y %H:%M:%S\"))\n",
    "print(current_datetime.strftime(\"%m-%d-%Y \"))\n",
    "print(current_datetime.strftime(\"Today is %A , %B %d %Y\"))"
   ]
  },
  {
   "cell_type": "code",
   "execution_count": 145,
   "id": "14d11647-6142-4881-a728-ee06d5c942ec",
   "metadata": {},
   "outputs": [
    {
     "name": "stdout",
     "output_type": "stream",
     "text": [
      "Local Date and Time Representation : Wed Apr  2 15:58:11 2025\n",
      "Local Date Representation: 04/02/25\n"
     ]
    }
   ],
   "source": [
    "# Format the datetime using locale-specific codes\n",
    "\n",
    "print(\"Local Date and Time Representation :\", current_datetime.strftime(\"%c\"))\n",
    "print(\"Local Date Representation:\", current_datetime.strftime(\"%x\"))\n",
    "\n"
   ]
  },
  {
   "cell_type": "markdown",
   "id": "494d2245-534b-4175-b941-39ee45cc46f4",
   "metadata": {},
   "source": [
    "# Format Time\n",
    "### **Common `strftime` Time Formatting Codes**\n",
    "| **Code** | **Description**                | **Example**        |\n",
    "|----------|--------------------------------|--------------------|\n",
    "| `%H`     | Hour (24-hour clock)           | `14`              |\n",
    "| `%I`     | Hour (12-hour clock)           | `02`              |\n",
    "| `%M`     | Minute (00–59)                 | `45`              |\n",
    "| `%S`     | Second (00–59)                 | `00`              |\n",
    "| `%f`     | Microsecond (000000–999999)    | `123456`          |\n",
    "| `%p`     | AM/PM indicator                | `PM`              |\n",
    "| `%X`     | Locale’s time representation   | `14:45:00`        |\n"
   ]
  },
  {
   "cell_type": "code",
   "execution_count": 146,
   "id": "ae1fbacf-406e-468e-aa8f-9580d72aa629",
   "metadata": {},
   "outputs": [
    {
     "name": "stdout",
     "output_type": "stream",
     "text": [
      "12-Hour Format Time: 03:58:11 PM\n",
      "Hour and Minute Only: 15:58\n"
     ]
    }
   ],
   "source": [
    "# Format Time\n",
    "current_time = datetime.now().time()\n",
    "\n",
    "# Format time in 12-hour format\n",
    "formatted_time = current_time.strftime(\"%I:%M:%S %p\")\n",
    "print(\"12-Hour Format Time:\", formatted_time)\n",
    "\n",
    "formatted_time = current_time.strftime(\"%H:%M\")\n",
    "print(\"Hour and Minute Only:\", formatted_time)\n",
    "\n"
   ]
  },
  {
   "cell_type": "markdown",
   "id": "62e01626-1cef-40aa-af1c-d8d52fce8a98",
   "metadata": {},
   "source": [
    "# Creating date object"
   ]
  },
  {
   "cell_type": "code",
   "execution_count": 147,
   "id": "b846054f-f4c5-4b0d-a377-ad379ce87099",
   "metadata": {},
   "outputs": [
    {
     "name": "stdout",
     "output_type": "stream",
     "text": [
      "Specific Date and Time: 2023-04-06 15:30:00\n",
      "Specific Date: 2023-04-13\n",
      "Specific Time: 14:30:15\n",
      "Specific Time Hour Only: 14:30:15\n",
      "Combined Datetime: 2023-04-13 14:30:15\n"
     ]
    }
   ],
   "source": [
    "specific_date = datetime(2023, 4, 6, 15, 30, 0)  # Year, month, day, hour, minute, second\n",
    "print(\"Specific Date and Time:\", specific_date)\n",
    "\n",
    "specific_date = date(2023, 4, 13) # Year, month, day\n",
    "print(\"Specific Date:\", specific_date)\n",
    "\n",
    "specific_time = time(14, 30, 15)  # Hour, Minute(optional), Second(optional)\n",
    "print(\"Specific Time:\", specific_time)\n",
    "\n",
    "specific_time_hour = time(14)  # Hour, Minute(optional), Second(optional)\n",
    "print(\"Specific Time Hour Only:\", specific_time)\n",
    "\n",
    "combined_datetime = datetime.combine(specific_date, specific_time)\n",
    "print(\"Combined Datetime:\", combined_datetime)\n"
   ]
  },
  {
   "cell_type": "code",
   "execution_count": 148,
   "id": "5a48d077-0520-4205-9a6e-026f431b65fa",
   "metadata": {},
   "outputs": [
    {
     "name": "stdout",
     "output_type": "stream",
     "text": [
      "Datetime from Timestamp: 2022-12-31 16:00:00\n"
     ]
    }
   ],
   "source": [
    "timestamp = 1672531200  # Seconds since epoch (January 1, 1970)\n",
    "datetime_from_timestamp = datetime.fromtimestamp(timestamp)\n",
    "print(\"Datetime from Timestamp:\", datetime_from_timestamp)"
   ]
  },
  {
   "cell_type": "code",
   "execution_count": 149,
   "id": "65a33ded-6f6b-4a43-b4a7-2151dc14eb7b",
   "metadata": {},
   "outputs": [
    {
     "name": "stdout",
     "output_type": "stream",
     "text": [
      "Parsed Datetime: 2023-04-06 15:30:45\n"
     ]
    }
   ],
   "source": [
    "# Parse a date string into a datetime object\n",
    "date_string = \"06/04/2023 15:30:45\"\n",
    "parsed_datetime = datetime.strptime(date_string, \"%d/%m/%Y %H:%M:%S\")\n",
    "print(\"Parsed Datetime:\", parsed_datetime)\n"
   ]
  }
 ],
 "metadata": {
  "kernelspec": {
   "display_name": "Python 3 (ipykernel)",
   "language": "python",
   "name": "python3"
  },
  "language_info": {
   "codemirror_mode": {
    "name": "ipython",
    "version": 3
   },
   "file_extension": ".py",
   "mimetype": "text/x-python",
   "name": "python",
   "nbconvert_exporter": "python",
   "pygments_lexer": "ipython3",
   "version": "3.12.7"
  }
 },
 "nbformat": 4,
 "nbformat_minor": 5
}
