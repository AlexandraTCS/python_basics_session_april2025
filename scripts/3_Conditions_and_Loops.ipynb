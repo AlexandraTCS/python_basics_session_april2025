{
 "cells": [
  {
   "cell_type": "code",
   "execution_count": 24,
   "id": "8c6c0189-ba02-478e-a429-9c2e9f1560e8",
   "metadata": {},
   "outputs": [],
   "source": [
    "# Python E0 Meet Up 04/2025. Varibles"
   ]
  },
  {
   "cell_type": "markdown",
   "id": "a9191147-254a-43f6-a931-a32a8aba4889",
   "metadata": {},
   "source": [
    "# Conditions and Loops\n",
    "\n",
    "Python supports the usual logical conditions from mathematics:\n",
    "\n",
    "* Equals: a == b\n",
    "* Not Equals: a != b\n",
    "* Less than: a < b\n",
    "* Less than or equal to: a <= b\n",
    "* Greater than: a > b\n",
    "* Greater than or equal to: a >= b\n",
    "\n",
    "Python relies on indentation (whitespace at the beginning of a line) to define scope in the code"
   ]
  },
  {
   "cell_type": "markdown",
   "id": "3fea2e5a-20ed-4488-83c2-d929d41a3d85",
   "metadata": {},
   "source": [
    "# IF statement\n"
   ]
  },
  {
   "cell_type": "code",
   "execution_count": 25,
   "id": "5b130fdd-c2b8-4a18-a757-6f4b5ab333d9",
   "metadata": {},
   "outputs": [
    {
     "name": "stdout",
     "output_type": "stream",
     "text": [
      "This one is out of the if statement\n"
     ]
    }
   ],
   "source": [
    "a=5\n",
    "b=3\n",
    "\n",
    "if a<b:\n",
    "    print('My first if statement')\n",
    "\n",
    "print(\"This one is out of the if statement\")    "
   ]
  },
  {
   "cell_type": "code",
   "execution_count": 26,
   "id": "09ae0169-b4a6-473b-8a18-9bbb35213350",
   "metadata": {},
   "outputs": [
    {
     "name": "stdout",
     "output_type": "stream",
     "text": [
      "x is True\n"
     ]
    }
   ],
   "source": [
    "x=True\n",
    "\n",
    "if x:\n",
    "    print(\"x is True\")"
   ]
  },
  {
   "cell_type": "code",
   "execution_count": 27,
   "id": "7d4340c2-8d8e-4a22-bbfb-cfa54d214246",
   "metadata": {},
   "outputs": [
    {
     "name": "stdout",
     "output_type": "stream",
     "text": [
      "any value is true\n"
     ]
    }
   ],
   "source": [
    "x=\"some value\"\n",
    "\n",
    "if x:\n",
    "    print(\"any value is true\")"
   ]
  },
  {
   "cell_type": "code",
   "execution_count": 28,
   "id": "1b3f66e8-308b-40a7-8d54-27cb4089eb05",
   "metadata": {},
   "outputs": [
    {
     "name": "stdout",
     "output_type": "stream",
     "text": [
      "x is False\n"
     ]
    }
   ],
   "source": [
    "#False and 0 are considered the same value\n",
    "x=0\n",
    "\n",
    "if x:\n",
    "    print(\"x is True\")\n",
    "    print(\"x is True\")\n",
    "else:\n",
    "    print(\"x is False\")\n",
    "    "
   ]
  },
  {
   "cell_type": "code",
   "execution_count": 29,
   "id": "04bc07d9-4894-4e1e-b67e-5ddceacfe4e3",
   "metadata": {},
   "outputs": [
    {
     "name": "stdout",
     "output_type": "stream",
     "text": [
      "x is False\n"
     ]
    }
   ],
   "source": [
    "#False and 0 are considered the same value\n",
    "x=0\n",
    "if x:\n",
    "  print(\"x is True\")\n",
    "elif x==False:\n",
    "  print(\"x is False\")"
   ]
  },
  {
   "cell_type": "code",
   "execution_count": 30,
   "id": "b4f877e0-01ee-48f2-967e-36f689cb25cd",
   "metadata": {},
   "outputs": [
    {
     "name": "stdout",
     "output_type": "stream",
     "text": [
      "True\n"
     ]
    }
   ],
   "source": [
    "x=0\n",
    "\n",
    "if x==False:\n",
    "    x=True\n",
    "\n",
    "print(x)    "
   ]
  },
  {
   "cell_type": "code",
   "execution_count": 31,
   "id": "f648d22e-e6a8-469a-88b5-2b347a332564",
   "metadata": {},
   "outputs": [
    {
     "name": "stdout",
     "output_type": "stream",
     "text": [
      "b is greater\n"
     ]
    }
   ],
   "source": [
    "# short hand\n",
    "a=3\n",
    "b=5\n",
    "print(\"a is greater\") if a > b else print(\"a and b are equal\") if a == b else print(\"b is greater\")"
   ]
  },
  {
   "cell_type": "code",
   "execution_count": 32,
   "id": "8a378116-f6d2-407d-8e6b-4cb13e63beb5",
   "metadata": {},
   "outputs": [
    {
     "name": "stdout",
     "output_type": "stream",
     "text": [
      "well done\n"
     ]
    }
   ],
   "source": [
    "#  logical operator 'and'\n",
    "x=5\n",
    "y='some string'\n",
    "\n",
    "if x>3 and type(y)==str:\n",
    "    print('well done')"
   ]
  },
  {
   "cell_type": "code",
   "execution_count": 33,
   "id": "b83089f2-0d02-46ce-abb1-3c559fb2801f",
   "metadata": {},
   "outputs": [
    {
     "name": "stdout",
     "output_type": "stream",
     "text": [
      "well done\n"
     ]
    }
   ],
   "source": [
    "#  logical operator 'or'\n",
    "\n",
    "if x>3 or type(y)==int:\n",
    "    print('well done')"
   ]
  },
  {
   "cell_type": "code",
   "execution_count": 34,
   "id": "15e8542d-aefb-44db-ab5f-e97d313491cc",
   "metadata": {},
   "outputs": [],
   "source": [
    "x=1\n",
    "y='some string'\n",
    "\n",
    "if (x>3 or type(y)==int) or (x==5):\n",
    "    print('well done')"
   ]
  },
  {
   "cell_type": "markdown",
   "id": "c9038b33-020d-459d-9457-ee38cf78fee7",
   "metadata": {},
   "source": [
    "# While loops\n",
    "With the while loop we can execute a set of statements as long as a condition is true."
   ]
  },
  {
   "cell_type": "code",
   "execution_count": 46,
   "id": "589e0e65-cd5d-418b-bcfd-c80af1b584fd",
   "metadata": {},
   "outputs": [
    {
     "name": "stdout",
     "output_type": "stream",
     "text": [
      "1\n",
      "2\n",
      "3\n",
      "4\n",
      "5\n",
      "outside of loop\n"
     ]
    }
   ],
   "source": [
    "# Basic while loop \n",
    "i = 1\n",
    "while i < 6:\n",
    "  print(i)\n",
    "  i += 1 #i=i+1\n",
    "\n",
    "print('outside of loop')"
   ]
  },
  {
   "cell_type": "code",
   "execution_count": 36,
   "id": "d18e073a-417e-4fef-bd8c-78dd362482f2",
   "metadata": {},
   "outputs": [
    {
     "name": "stdout",
     "output_type": "stream",
     "text": [
      "0\n",
      "1\n",
      "2\n",
      "Done!\n"
     ]
    }
   ],
   "source": [
    "i = 0\n",
    "while i < 3:\n",
    "    print(i)\n",
    "    i += 1\n",
    "else:\n",
    "    print ('Done!')"
   ]
  },
  {
   "cell_type": "markdown",
   "id": "e7fa1169-85d9-4246-989c-2c03c72e45d2",
   "metadata": {},
   "source": [
    "# For loops\n",
    "\n",
    "A for loop is used for iterating over a sequence (that is either a list, a tuple, a dictionary, a set, or a string)."
   ]
  },
  {
   "cell_type": "code",
   "execution_count": 37,
   "id": "f4f403bf-7266-4ab5-8874-b7bc2b099109",
   "metadata": {},
   "outputs": [
    {
     "name": "stdout",
     "output_type": "stream",
     "text": [
      "range(5, 10, 2)\n",
      "2\n",
      "3\n",
      "4\n",
      "5\n",
      "6\n",
      "7\n",
      "8\n",
      "9\n"
     ]
    }
   ],
   "source": [
    "# The range isfunction in Python is used to generate a sequence of numbers.\n",
    "# range(start, stop, step)\n",
    "\n",
    "x=range(5,10,2)\n",
    "print(x)\n",
    "\n",
    "for item in range(2,10,1):\n",
    "    print(item)"
   ]
  },
  {
   "cell_type": "code",
   "execution_count": 48,
   "id": "5982e238-b292-4b94-8981-5e4405fd63b4",
   "metadata": {},
   "outputs": [
    {
     "name": "stdout",
     "output_type": "stream",
     "text": [
      "apples\n",
      "milk\n",
      "bread\n",
      "rice\n"
     ]
    }
   ],
   "source": [
    "# For loop over a collection with a break statement\n",
    "my_grocery_list=['apples','milk','bread','rice','potato']\n",
    "\n",
    "for item in my_grocery_list:\n",
    "    print(item)\n",
    "    if item=='rice': break"
   ]
  },
  {
   "cell_type": "code",
   "execution_count": 50,
   "id": "117e7c59-0701-4ce6-8b02-e6fa7617750d",
   "metadata": {},
   "outputs": [
    {
     "name": "stdout",
     "output_type": "stream",
     "text": [
      "too low\n",
      "Bob\n",
      "Alice\n"
     ]
    }
   ],
   "source": [
    "# For loop over a collection with a continue statement\n",
    "students=[{'name': 'John', 'age': 36,'major': 'Computer Science','GPA':80},\n",
    "          {'name': 'Bob', 'age': 28, 'major': 'Data Science','GPA':83},\n",
    "          {'name': 'Alice', 'age': 43, 'major': 'Computer Science','GPA':90}\n",
    "         ]\n",
    "\n",
    "for student in students:\n",
    "    if student['GPA']<81: \n",
    "        print('too low')\n",
    "        continue    \n",
    "    print(student['name'])    "
   ]
  },
  {
   "cell_type": "code",
   "execution_count": 40,
   "id": "be1337e0-c96e-41d6-a689-24856c98d916",
   "metadata": {},
   "outputs": [
    {
     "data": {
      "text/plain": [
       "['Bob', 'Alice']"
      ]
     },
     "execution_count": 40,
     "metadata": {},
     "output_type": "execute_result"
    }
   ],
   "source": [
    "# ShortHand for loop \n",
    "names_with_high_gpa = [student['name'] for student in students if student['GPA']>81]\n",
    "names_with_high_gpa"
   ]
  },
  {
   "cell_type": "code",
   "execution_count": 53,
   "id": "3de1fa7c-cd39-4d95-bfea-a36e68e786ae",
   "metadata": {},
   "outputs": [
    {
     "name": "stdout",
     "output_type": "stream",
     "text": [
      "the item number:0 is apples\n",
      "the item number:1 is milk\n",
      "the item number:2 is bread\n",
      "the item number:3 is rice\n"
     ]
    }
   ],
   "source": [
    " # The enumerate is a built-in function that allows you to loop through an iterable while keeping track of the index of each element. \n",
    "my_grocery_list=['apples','milk','bread','rice','potato']\n",
    "for index, item in enumerate(my_grocery_list):\n",
    "    print(f'the item number:{index} is {item}')\n",
    "    if index>2: break\n",
    "    "
   ]
  },
  {
   "cell_type": "code",
   "execution_count": 42,
   "id": "59125952-917e-4496-b410-88fbb2d1f86b",
   "metadata": {},
   "outputs": [
    {
     "name": "stdout",
     "output_type": "stream",
     "text": [
      "name\n",
      "age\n",
      "major\n",
      "GPA\n"
     ]
    }
   ],
   "source": [
    "student={'name': 'Alice', 'age': 43, 'major': 'Computer Science','GPA':90}\n",
    "\n",
    "for item in student:\n",
    "    print(item)"
   ]
  },
  {
   "cell_type": "code",
   "execution_count": 43,
   "id": "c0c6e3cc-d500-4204-abb0-9474029a880d",
   "metadata": {},
   "outputs": [
    {
     "name": "stdout",
     "output_type": "stream",
     "text": [
      "name: Alice\n",
      "age: 43\n",
      "major: Computer Science\n",
      "GPA: 90\n"
     ]
    }
   ],
   "source": [
    "student={'name': 'Alice', 'age': 43, 'major': 'Computer Science','GPA':90}\n",
    "\n",
    "for key, value in student.items():\n",
    "    print(f'{key}: {value}')"
   ]
  }
 ],
 "metadata": {
  "kernelspec": {
   "display_name": "Python 3 (ipykernel)",
   "language": "python",
   "name": "python3"
  },
  "language_info": {
   "codemirror_mode": {
    "name": "ipython",
    "version": 3
   },
   "file_extension": ".py",
   "mimetype": "text/x-python",
   "name": "python",
   "nbconvert_exporter": "python",
   "pygments_lexer": "ipython3",
   "version": "3.12.7"
  }
 },
 "nbformat": 4,
 "nbformat_minor": 5
}
