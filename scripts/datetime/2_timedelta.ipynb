{
 "cells": [
  {
   "cell_type": "code",
   "execution_count": 64,
   "id": "47505f65-63d7-491e-9226-d701774efa93",
   "metadata": {},
   "outputs": [],
   "source": [
    "# 04/2025 Meet Up Python E0"
   ]
  },
  {
   "cell_type": "markdown",
   "id": "aab57a51-17f0-40ec-9fb0-5f023ec47177",
   "metadata": {},
   "source": [
    "# Timedelta\n",
    "\n",
    "The Timedelta is a class represents a duration of time (difference between two dates or times). "
   ]
  },
  {
   "cell_type": "code",
   "execution_count": 65,
   "id": "3665363a-c7f4-4b57-b23a-6d2ac8b63f49",
   "metadata": {},
   "outputs": [],
   "source": [
    "# Import the required classes from the datetime module\n",
    "from datetime import datetime,timedelta"
   ]
  },
  {
   "cell_type": "code",
   "execution_count": 66,
   "id": "27b689b2-f70f-44fe-b4d7-ea38792393df",
   "metadata": {},
   "outputs": [
    {
     "name": "stdout",
     "output_type": "stream",
     "text": [
      "Difference Between Dates: 3 days, 0:00:00\n",
      "Days Difference: 3\n"
     ]
    }
   ],
   "source": [
    "# Define two datetime objects\n",
    "date1 = datetime(2025, 3, 15)\n",
    "date2 = datetime(2025, 3, 18)\n",
    "\n",
    "# Calculate the difference using subtraction\n",
    "difference = date2 - date1\n",
    "print(\"Difference Between Dates:\", difference)\n",
    "print(\"Days Difference:\", difference.days)"
   ]
  },
  {
   "cell_type": "code",
   "execution_count": 67,
   "id": "25b85467-419b-4482-be00-915433c6fbc0",
   "metadata": {},
   "outputs": [
    {
     "name": "stdout",
     "output_type": "stream",
     "text": [
      "Current Datetime: 2025-04-02 14:45:28.539050\n",
      "Seven Days Later: 2025-04-09 14:45:28.539050\n",
      "Seven Days Ago: 2025-03-26 14:45:28.539050\n"
     ]
    }
   ],
   "source": [
    "# Current datetime\n",
    "now = datetime.now()\n",
    "print(\"Current Datetime:\", now)\n",
    "\n",
    "# Add 7 days\n",
    "seven_days_later = now + timedelta(days=7)\n",
    "print(\"Seven Days Later:\", seven_days_later)\n",
    "\n",
    "# Subtract 7 days\n",
    "seven_days_ago = now - timedelta(days=7)\n",
    "print(\"Seven Days Ago:\", seven_days_ago)"
   ]
  },
  {
   "cell_type": "code",
   "execution_count": 68,
   "id": "a3e78563-5767-4a17-8ddd-5113cb95bc7b",
   "metadata": {},
   "outputs": [
    {
     "name": "stdout",
     "output_type": "stream",
     "text": [
      "Current Datetime: 2025-04-02 14:45:28.539050\n",
      "Time After 5 Hours 30 Minutes: 2025-04-02 20:15:28.539050\n",
      "Time 2 Hours Ago: 2025-03-30 12:45:28.539050\n"
     ]
    }
   ],
   "source": [
    "print(\"Current Datetime:\", now)\n",
    "# Add 5 hours and 30 minutes\n",
    "new_time = now + timedelta(hours=5, minutes=30)\n",
    "print(\"Time After 5 Hours 30 Minutes:\", new_time)\n",
    "\n",
    "# Subtract 2 hours\n",
    "earlier_time = now - timedelta(days=3, hours=2)\n",
    "print(\"Time 2 Hours Ago:\", earlier_time)"
   ]
  },
  {
   "cell_type": "code",
   "execution_count": 69,
   "id": "ab9e36e0-95f2-4e67-83fb-4e5b513c1009",
   "metadata": {},
   "outputs": [
    {
     "name": "stdout",
     "output_type": "stream",
     "text": [
      "Current Datetime: 2025-04-02 14:45:28.539050\n",
      "Two Weeks Later: 2025-04-16 14:45:28.539050\n"
     ]
    }
   ],
   "source": [
    "print(\"Current Datetime:\", now)\n",
    "# Add two weeks\n",
    "two_weeks_later = now + timedelta(weeks=2)\n",
    "print(\"Two Weeks Later:\", two_weeks_later)"
   ]
  },
  {
   "cell_type": "code",
   "execution_count": 70,
   "id": "9ff955ff-0993-4e38-8ac8-63c95b876d1e",
   "metadata": {},
   "outputs": [
    {
     "name": "stdout",
     "output_type": "stream",
     "text": [
      "Current Datetime: 2025-04-02 14:45:28.539050\n",
      "Ten Years Later: 2035-03-31 14:45:28.539050\n"
     ]
    }
   ],
   "source": [
    "print(\"Current Datetime:\", now)\n",
    "# Add 10 years\n",
    "ten_years_later = now + timedelta(days=10 * 365)  # Approximate by multiplying days\n",
    "print(\"Ten Years Later:\", ten_years_later)"
   ]
  },
  {
   "cell_type": "code",
   "execution_count": 71,
   "id": "72793420-1797-4d73-b77d-07d359b909e3",
   "metadata": {},
   "outputs": [
    {
     "name": "stdout",
     "output_type": "stream",
     "text": [
      "Current Date: 2023-04-06 00:00:00\n",
      "Date After Adding 3 Months: 2023-07-06 00:00:00\n",
      "Date After Adding 2 Years and 3 Months: 2025-07-06 00:00:00\n"
     ]
    }
   ],
   "source": [
    "from dateutil.relativedelta import relativedelta\n",
    "\n",
    "# Original date\n",
    "current_date = datetime(2023, 4, 6)\n",
    "print(\"Current Date:\", current_date)\n",
    "\n",
    "# Add 3 months\n",
    "new_date = current_date + relativedelta(months=3)\n",
    "print(\"Date After Adding 3 Months:\", new_date)\n",
    "\n",
    "# Add 2 years and 3 months\n",
    "new_date = current_date + relativedelta(years=2, months=3)\n",
    "print(\"Date After Adding 2 Years and 3 Months:\", new_date)\n"
   ]
  },
  {
   "cell_type": "code",
   "execution_count": 72,
   "id": "bba1b05c-00da-49d6-a73f-46ebfa1ea2f9",
   "metadata": {},
   "outputs": [
    {
     "name": "stdout",
     "output_type": "stream",
     "text": [
      "Original Date: 2023-04-06 00:00:00\n",
      "Modified Date (Year Changed to 2025): 2025-04-06 00:00:00\n",
      "Modified Date (Month Changed to December): 2023-12-06 00:00:00\n"
     ]
    }
   ],
   "source": [
    "print(\"Original Date:\", current_date)\n",
    "# Change the year to 2025\n",
    "new_date = current_date + relativedelta(year=2025)\n",
    "print(\"Modified Date (Year Changed to 2025):\", new_date)\n",
    "\n",
    "# Change the month to December\n",
    "new_date = current_date + relativedelta(month=12)\n",
    "print(\"Modified Date (Month Changed to December):\", new_date)\n"
   ]
  },
  {
   "cell_type": "code",
   "execution_count": 73,
   "id": "78a6dc3d-0f86-4bc0-b479-00053067ae4e",
   "metadata": {},
   "outputs": [
    {
     "name": "stdout",
     "output_type": "stream",
     "text": [
      "Original Date: 2025-04-02 14:45:28.539050\n",
      "Next Friday: 2023-04-07 00:00:00\n",
      "Previous Friday: 2023-03-31 00:00:00\n"
     ]
    }
   ],
   "source": [
    "from dateutil.relativedelta import relativedelta, MO, TU, WE, TH, FR, SA, SU\n",
    "\n",
    "print(\"Original Date:\", now)\n",
    "\n",
    "# Find the next Friday\n",
    "next_friday = current_date + relativedelta(weekday=FR)\n",
    "print(\"Next Friday:\", next_friday)\n",
    "\n",
    "# Find the previous Friday\n",
    "previous_friday = current_date + relativedelta(weekday=FR(-1))\n",
    "print(\"Previous Friday:\", previous_friday)\n"
   ]
  }
 ],
 "metadata": {
  "kernelspec": {
   "display_name": "Python 3 (ipykernel)",
   "language": "python",
   "name": "python3"
  },
  "language_info": {
   "codemirror_mode": {
    "name": "ipython",
    "version": 3
   },
   "file_extension": ".py",
   "mimetype": "text/x-python",
   "name": "python",
   "nbconvert_exporter": "python",
   "pygments_lexer": "ipython3",
   "version": "3.12.7"
  }
 },
 "nbformat": 4,
 "nbformat_minor": 5
}
